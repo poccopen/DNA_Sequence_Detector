{
 "cells": [
  {
   "cell_type": "markdown",
   "metadata": {},
   "source": [
    "インポート"
   ]
  },
  {
   "cell_type": "code",
   "execution_count": null,
   "metadata": {},
   "outputs": [],
   "source": [
    "import numpy as np\n",
    "from tqdm import tqdm\n",
    "import matplotlib.pyplot as plt\n",
    "import gc\n",
    "from scipy import signal\n",
    "import math\n",
    "from numba import jit, i2\n",
    "import datetime"
   ]
  },
  {
   "cell_type": "markdown",
   "metadata": {},
   "source": [
    "テキストファイルの読み込み"
   ]
  },
  {
   "cell_type": "code",
   "execution_count": null,
   "metadata": {},
   "outputs": [],
   "source": [
    "repeatUnitFileName='CUP1_repeatUnit.txt'\n",
    "f = open(repeatUnitFileName, 'r')\n",
    "repeatUnitList = f.readlines()\n",
    "f.close()"
   ]
  },
  {
   "cell_type": "code",
   "execution_count": null,
   "metadata": {},
   "outputs": [],
   "source": [
    "sequenceFileName='testSequence.txt'\n",
    "f = open(sequenceFileName, 'r')\n",
    "sequenceList = f.readlines()\n",
    "f.close()"
   ]
  },
  {
   "cell_type": "markdown",
   "metadata": {},
   "source": [
    "テキストファイルの作成"
   ]
  },
  {
   "cell_type": "code",
   "execution_count": null,
   "metadata": {},
   "outputs": [],
   "source": [
    "dt_now = datetime.datetime.now()\n",
    "\n",
    "with open('SD.txt', mode='a') as f:\n",
    "    f.write('\\nDNA_Sequence_Detector'+\n",
    "            '\\n\\n開始時刻　'+dt_now.strftime('%Y-%m-%d %H:%M:%S')+\n",
    "            '\\n') "
   ]
  },
  {
   "cell_type": "code",
   "execution_count": null,
   "metadata": {},
   "outputs": [],
   "source": [
    "repeatUnitName=''\n",
    "repeatUnit=''\n",
    "for i in range(0,len(repeatUnitList)):   \n",
    "    if( '>'in repeatUnitList[i] ):\n",
    "        repeatUnitName=repeatUnitName+repeatUnitList[i][1:-1]\n",
    "    else:\n",
    "        repeatUnit=repeatUnit+repeatUnitList[i][0:-1]\n",
    "\n",
    "with open('SD.txt', mode='a') as f:\n",
    "    f.write('\\n既知の配列のファイルの名前　'+repeatUnitFileName+\n",
    "            '\\n既知の配列の名前　'+repeatUnitName+\n",
    "            '\\n既知の配列の長さ　'+str( len(repeatUnit) )+\n",
    "            '\\n') "
   ]
  },
  {
   "cell_type": "code",
   "execution_count": null,
   "metadata": {},
   "outputs": [],
   "source": [
    "with open('SD.txt', mode='a') as f:\n",
    "    f.write('\\nSequenceファイルの名前　'+sequenceFileName) "
   ]
  },
  {
   "cell_type": "code",
   "execution_count": null,
   "metadata": {},
   "outputs": [],
   "source": [
    "nameCounter=0\n",
    "for i in range(len(sequenceList)):\n",
    "    if('>' in sequenceList[i]):\n",
    "        nameCounter=nameCounter+1\n",
    "with open('SD.txt', mode='a') as f:\n",
    "    f.write('\\nSequenceファイル中のSequenceの個数　'+str(nameCounter)+\n",
    "            '\\n') "
   ]
  },
  {
   "cell_type": "code",
   "execution_count": null,
   "metadata": {},
   "outputs": [],
   "source": [
    "#NF2決定\n",
    "E1=0\n",
    "for i in range(10+1, 1000):\n",
    "    E1 = E1 + (9/16)*( (1/4)**i )*(i**2)\n",
    "\n",
    "NF2List=[1]\n",
    "for NF2 in NF2List:\n",
    "    E2=0\n",
    "    for i in range(NF2+1, 1000):\n",
    "        E2 = E2 + (9/16)*( (1/4)**i )*(i**2)\n",
    "    if(len(repeatUnit)*E2 <= 1988*E1):\n",
    "        break\n",
    "    else:\n",
    "        NF2List.append(NF2+1)\n",
    "NF2=NF2List[-1]"
   ]
  },
  {
   "cell_type": "code",
   "execution_count": null,
   "metadata": {},
   "outputs": [],
   "source": [
    "#パラメータ決定\n",
    "NF1=0\n",
    "#NF2=10\n",
    "L1 = np.round(len(repeatUnit)/20).astype(np.int)\n",
    "density = (2*NF2+1+1+1)/L1\n",
    "L1_R = np.round(len(repeatUnit)/4).astype(np.int)\n",
    "L2 = np.round(len(repeatUnit)/4).astype(np.int)\n",
    "minLength = np.round(len(repeatUnit)/2).astype(np.int)\n",
    "Ratio=1.5\n",
    "N_fourier=10"
   ]
  },
  {
   "cell_type": "code",
   "execution_count": null,
   "metadata": {},
   "outputs": [],
   "source": [
    "with open('SD.txt', mode='a') as f:\n",
    "    f.write('\\nNF1='+str(NF1)+\n",
    "            '\\nNF2='+str(NF2)+\n",
    "            '\\nL1='+str(L1)+\n",
    "            '\\ndensity='+str(density)+\n",
    "            '\\nL1_R='+str(L1_R)+\n",
    "            '\\nL2='+str(L2)+\n",
    "            '\\nminLength='+str(minLength)+\n",
    "            '\\nRatio='+str(Ratio)+\n",
    "            '\\nN_fourier='+str(N_fourier)+\n",
    "            '\\n') "
   ]
  },
  {
   "cell_type": "code",
   "execution_count": null,
   "metadata": {},
   "outputs": [],
   "source": [
    "with open('SD.txt', mode='a') as f:\n",
    "    f.write('\\n元の配列の名前'+\n",
    "            '\\t配列の長さ'+\n",
    "            '\\t既知配列開始位置'+\n",
    "            '\\t既知配列終了位置'+\n",
    "            '\\t既知配列の個数(推定)'+\n",
    "            '\\t既知配列の個数(フーリエ変換)'+\n",
    "            '\\t第n候補'+\n",
    "            '\\t既知配列の長さ(フーリエ変換)'+\n",
    "            '\\t領域判定値')"
   ]
  },
  {
   "cell_type": "code",
   "execution_count": null,
   "metadata": {},
   "outputs": [],
   "source": [
    "Index=0\n",
    "for j in tqdm(range(nameCounter)):\n",
    "    name=''\n",
    "    seq=''\n",
    "    counter=0\n",
    "    for i in range(Index,len(sequenceList)):   \n",
    "        if( ('>'in sequenceList[i]) and (counter==0) ):\n",
    "            name=name+\"'\"+sequenceList[i][1:-1]\n",
    "            counter=counter+1\n",
    "        elif( ('>'in sequenceList[i]) and (counter>0) ):\n",
    "            Index=i\n",
    "            break\n",
    "        else:\n",
    "            seq=seq+sequenceList[i][0:-1]\n",
    "    \n",
    "    %run SD_internal.ipynb\n",
    "\n",
    "dt_now = datetime.datetime.now()\n",
    "with open('SD.txt', mode='a') as f:\n",
    "    f.write('\\n\\n終了時刻　'+dt_now.strftime('%Y-%m-%d %H:%M:%S')+\n",
    "            '\\n') "
   ]
  },
  {
   "cell_type": "code",
   "execution_count": null,
   "metadata": {},
   "outputs": [],
   "source": []
  }
 ],
 "metadata": {
  "kernelspec": {
   "display_name": "Python 3",
   "language": "python",
   "name": "python3"
  },
  "language_info": {
   "codemirror_mode": {
    "name": "ipython",
    "version": 3
   },
   "file_extension": ".py",
   "mimetype": "text/x-python",
   "name": "python",
   "nbconvert_exporter": "python",
   "pygments_lexer": "ipython3",
   "version": "3.7.6"
  }
 },
 "nbformat": 4,
 "nbformat_minor": 4
}
